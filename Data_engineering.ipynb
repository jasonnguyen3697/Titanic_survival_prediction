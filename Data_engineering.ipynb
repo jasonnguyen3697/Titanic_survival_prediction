{
 "cells": [
  {
   "cell_type": "code",
   "execution_count": 1,
   "metadata": {},
   "outputs": [
    {
     "name": "stderr",
     "output_type": "stream",
     "text": [
      "Using TensorFlow backend.\n"
     ]
    }
   ],
   "source": [
    "from keras.layers import Dense, Dropout, BatchNormalization, Input\n",
    "from keras.models import Model\n",
    "from keras.utils import multi_gpu_model, to_categorical\n",
    "from keras.optimizers import SGD, Adam\n",
    "from keras.callbacks import ReduceLROnPlateau, EarlyStopping\n",
    "import pandas as pd\n",
    "import matplotlib.pyplot as plt\n",
    "import numpy as np\n",
    "from sklearn.model_selection import train_test_split\n",
    "from sklearn.ensemble import RandomForestRegressor\n",
    "import re as re\n",
    "import seaborn as sns"
   ]
  },
  {
   "cell_type": "code",
   "execution_count": 2,
   "metadata": {},
   "outputs": [
    {
     "name": "stdout",
     "output_type": "stream",
     "text": [
      "PassengerId     0.000000\n",
      "Survived        0.000000\n",
      "Pclass          0.000000\n",
      "Name            0.000000\n",
      "Sex             0.000000\n",
      "Age            19.865320\n",
      "SibSp           0.000000\n",
      "Parch           0.000000\n",
      "Ticket          0.000000\n",
      "Fare            0.000000\n",
      "Cabin          77.104377\n",
      "Embarked        0.224467\n",
      "dtype: float64\n",
      "PassengerId     0.000000\n",
      "Pclass          0.000000\n",
      "Name            0.000000\n",
      "Sex             0.000000\n",
      "Age            20.574163\n",
      "SibSp           0.000000\n",
      "Parch           0.000000\n",
      "Ticket          0.000000\n",
      "Fare            0.239234\n",
      "Cabin          78.229665\n",
      "Embarked        0.000000\n",
      "dtype: float64\n"
     ]
    }
   ],
   "source": [
    "train = pd.read_csv('train.csv')\n",
    "print(train.isnull().sum()/len(train)*100)\n",
    "train.head()\n",
    "test = pd.read_csv('test.csv')\n",
    "print(test.isnull().sum()/len(test)*100)"
   ]
  },
  {
   "cell_type": "code",
   "execution_count": 3,
   "metadata": {},
   "outputs": [],
   "source": [
    "# OBTAIN SET OF LABELS\n",
    "Y_train = train.Survived.to_numpy().reshape((-1,1))"
   ]
  },
  {
   "cell_type": "code",
   "execution_count": 4,
   "metadata": {},
   "outputs": [
    {
     "name": "stderr",
     "output_type": "stream",
     "text": [
      "/home/jason/anaconda3/envs/tensorflow_env/lib/python3.7/site-packages/ipykernel_launcher.py:11: SettingWithCopyWarning: \n",
      "A value is trying to be set on a copy of a slice from a DataFrame\n",
      "\n",
      "See the caveats in the documentation: http://pandas.pydata.org/pandas-docs/stable/indexing.html#indexing-view-versus-copy\n",
      "  # This is added back by InteractiveShellApp.init_path()\n"
     ]
    }
   ],
   "source": [
    "# FILL NAN VALUES\n",
    "# FILL AGE\n",
    "meanAge = train.Age.mean()\n",
    "stdAge = train.Age.std()\n",
    "\n",
    "def fillAge(df, meanAge, stdAge):\n",
    "    ageNullCount = df.Age.isnull().sum()\n",
    "    \n",
    "    randomAgeArray = np.random.randint(meanAge - stdAge, meanAge + stdAge, size=ageNullCount)\n",
    "    \n",
    "    df['Age'][np.isnan(df['Age'])] = randomAgeArray\n",
    "    df['Age'] = df['Age'].astype(int)\n",
    "    \n",
    "    return df\n",
    "\n",
    "train = fillAge(train, meanAge, stdAge)\n",
    "test = fillAge(test, meanAge, stdAge)"
   ]
  },
  {
   "cell_type": "code",
   "execution_count": 5,
   "metadata": {},
   "outputs": [
    {
     "name": "stdout",
     "output_type": "stream",
     "text": [
      "PassengerId     0.000000\n",
      "Survived        0.000000\n",
      "Pclass          0.000000\n",
      "Name            0.000000\n",
      "Sex             0.000000\n",
      "Age             0.000000\n",
      "SibSp           0.000000\n",
      "Parch           0.000000\n",
      "Ticket          0.000000\n",
      "Fare            0.000000\n",
      "Cabin          77.104377\n",
      "Embarked        0.224467\n",
      "dtype: float64\n",
      "PassengerId     0.000000\n",
      "Pclass          0.000000\n",
      "Name            0.000000\n",
      "Sex             0.000000\n",
      "Age             0.000000\n",
      "SibSp           0.000000\n",
      "Parch           0.000000\n",
      "Ticket          0.000000\n",
      "Fare            0.239234\n",
      "Cabin          78.229665\n",
      "Embarked        0.000000\n",
      "dtype: float64\n"
     ]
    }
   ],
   "source": [
    "print(train.isnull().sum()/len(train)*100)\n",
    "print(test.isnull().sum()/len(test)*100)"
   ]
  },
  {
   "cell_type": "code",
   "execution_count": 6,
   "metadata": {},
   "outputs": [
    {
     "name": "stdout",
     "output_type": "stream",
     "text": [
      "   Pclass     Fare\n",
      "0       1  60.2875\n",
      "1       2  14.2500\n",
      "2       3   8.0500\n",
      "    Fare                                                               Pclass  \\\n",
      "   count       mean        std  min       25%      50%   75%       max  count   \n",
      "0  216.0  84.154687  78.380373  0.0  30.92395  60.2875  93.5  512.3292  216.0   \n",
      "1  184.0  20.662183  13.417399  0.0  13.00000  14.2500  26.0   73.5000  184.0   \n",
      "2  491.0  13.675550  11.778142  0.0   7.75000   8.0500  15.5   69.5500  491.0   \n",
      "\n",
      "                                      \n",
      "  mean  std  min  25%  50%  75%  max  \n",
      "0  1.0  0.0  1.0  1.0  1.0  1.0  1.0  \n",
      "1  2.0  0.0  2.0  2.0  2.0  2.0  2.0  \n",
      "2  3.0  0.0  3.0  3.0  3.0  3.0  3.0  \n"
     ]
    }
   ],
   "source": [
    "# FILL FARES\n",
    "print(train[['Fare', 'Pclass']].groupby('Pclass', as_index=False).median())\n",
    "print(train[['Fare', 'Pclass']].groupby('Pclass', as_index=False).describe())"
   ]
  },
  {
   "cell_type": "code",
   "execution_count": 7,
   "metadata": {},
   "outputs": [
    {
     "name": "stdout",
     "output_type": "stream",
     "text": [
      "    Fare                                                                 \\\n",
      "   count       mean        std     min    25%      50%    75%       max   \n",
      "0  107.0  94.280297  84.435858  0.0000  30.10  60.0000  134.5  512.3292   \n",
      "1   93.0  22.202104  13.991877  9.6875  13.00  15.7500   26.0   73.5000   \n",
      "2  217.0  12.459678  10.803698  3.1708   7.75   7.8958   14.4   69.5500   \n",
      "\n",
      "  Pclass                                     \n",
      "   count mean  std  min  25%  50%  75%  max  \n",
      "0  107.0  1.0  0.0  1.0  1.0  1.0  1.0  1.0  \n",
      "1   93.0  2.0  0.0  2.0  2.0  2.0  2.0  2.0  \n",
      "2  218.0  3.0  0.0  3.0  3.0  3.0  3.0  3.0  \n",
      "PassengerId     0.000000\n",
      "Pclass          0.000000\n",
      "Name            0.000000\n",
      "Sex             0.000000\n",
      "Age             0.000000\n",
      "SibSp           0.000000\n",
      "Parch           0.000000\n",
      "Ticket          0.000000\n",
      "Fare            0.000000\n",
      "Cabin          78.229665\n",
      "Embarked        0.000000\n",
      "dtype: float64\n"
     ]
    }
   ],
   "source": [
    "print(test[['Fare', 'Pclass']].groupby('Pclass', as_index=False).describe())\n",
    "\n",
    "# only missing value is from third class\n",
    "np.random.seed(42)\n",
    "test.Fare = test.Fare.fillna(11.778142 * np.random.rand() + 13.67555) #fill by randomly generating a number in distribution with mean and std from training set\n",
    "print(test.isnull().sum()/len(test)*100)"
   ]
  },
  {
   "cell_type": "code",
   "execution_count": 8,
   "metadata": {},
   "outputs": [
    {
     "name": "stdout",
     "output_type": "stream",
     "text": [
      "PassengerId    0.000000\n",
      "Survived       0.000000\n",
      "Pclass         0.000000\n",
      "Name           0.000000\n",
      "Sex            0.000000\n",
      "Age            0.000000\n",
      "SibSp          0.000000\n",
      "Parch          0.000000\n",
      "Ticket         0.000000\n",
      "Fare           0.000000\n",
      "Cabin          0.000000\n",
      "Embarked       0.224467\n",
      "dtype: float64\n",
      "PassengerId    0.0\n",
      "Pclass         0.0\n",
      "Name           0.0\n",
      "Sex            0.0\n",
      "Age            0.0\n",
      "SibSp          0.0\n",
      "Parch          0.0\n",
      "Ticket         0.0\n",
      "Fare           0.0\n",
      "Cabin          0.0\n",
      "Embarked       0.0\n",
      "dtype: float64\n"
     ]
    }
   ],
   "source": [
    "# FILL CABIN\n",
    "train.Cabin = train.Cabin.fillna('U')\n",
    "test.Cabin = test.Cabin.fillna('U')\n",
    "\n",
    "print(train.isnull().sum()/len(train)*100)\n",
    "print(test.isnull().sum()/len(test)*100)"
   ]
  },
  {
   "cell_type": "code",
   "execution_count": 9,
   "metadata": {},
   "outputs": [
    {
     "name": "stdout",
     "output_type": "stream",
     "text": [
      "PassengerId    0.0\n",
      "Survived       0.0\n",
      "Pclass         0.0\n",
      "Name           0.0\n",
      "Sex            0.0\n",
      "Age            0.0\n",
      "SibSp          0.0\n",
      "Parch          0.0\n",
      "Ticket         0.0\n",
      "Fare           0.0\n",
      "Cabin          0.0\n",
      "Embarked       0.0\n",
      "dtype: float64\n"
     ]
    }
   ],
   "source": [
    "# FILL EMBARKED\n",
    "# MODE IS 'S'\n",
    "train.Embarked = train.Embarked.fillna('S')\n",
    "print(train.isnull().sum()/len(train)*100)"
   ]
  },
  {
   "cell_type": "code",
   "execution_count": 10,
   "metadata": {},
   "outputs": [
    {
     "name": "stdout",
     "output_type": "stream",
     "text": [
      "['Mr' 'Mrs' 'Miss' 'Master' 'Don' 'Rev' 'Dr' 'Mme' 'Ms' 'Major' 'Lady'\n",
      " 'Sir' 'Mlle' 'Col' 'Capt' 'Countess' 'Jonkheer']\n",
      "['Mr' 'Mrs' 'Miss' 'Master' 'Ms' 'Col' 'Rev' 'Dr' 'Dona']\n"
     ]
    }
   ],
   "source": [
    "# FEATURE ENGINEERING\n",
    "# 1. Name\n",
    "# Need to extract titles\n",
    "def extractTitles(name):\n",
    "    title = re.search(' ([A-Za-z]+)\\.', name)\n",
    "    if title:\n",
    "        return title.group(1)\n",
    "    return \"\"\n",
    "\n",
    "train['Title'] = train['Name'].apply(extractTitles)\n",
    "test['Title'] = test['Name'].apply(extractTitles)\n",
    "    \n",
    "print(train.Title.unique())\n",
    "print(test.Title.unique())"
   ]
  },
  {
   "cell_type": "code",
   "execution_count": 11,
   "metadata": {},
   "outputs": [
    {
     "name": "stdout",
     "output_type": "stream",
     "text": [
      "Sex       female  male\n",
      "Title                 \n",
      "Capt           0     1\n",
      "Col            0     2\n",
      "Countess       1     0\n",
      "Don            0     1\n",
      "Dr             1     6\n",
      "Jonkheer       0     1\n",
      "Lady           1     0\n",
      "Major          0     2\n",
      "Master         0    40\n",
      "Miss         182     0\n",
      "Mlle           2     0\n",
      "Mme            1     0\n",
      "Mr             0   517\n",
      "Mrs          125     0\n",
      "Ms             1     0\n",
      "Rev            0     6\n",
      "Sir            0     1\n",
      "['Mr' 'Mrs' 'Miss' 'Master' 'Rare']\n",
      "['Mr' 'Mrs' 'Miss' 'Master' 'Rare']\n"
     ]
    }
   ],
   "source": [
    "# Clean up titles\n",
    "print(pd.crosstab(train.Title, train.Sex))\n",
    "\n",
    "def cleanTitle(df):\n",
    "    df.Title = df.Title.replace(['Capt', 'Col', 'Countess', 'Don', 'Dona', 'Dr', 'Jonkheer', 'Lady', 'Major', 'Rev', 'Sir'], 'Rare')\n",
    "    df.Title = df.Title.replace(['Ms', 'Mlle'], 'Miss')\n",
    "    df.Title = df.Title.replace('Mme', 'Mrs')\n",
    "    \n",
    "    return df\n",
    "\n",
    "train = cleanTitle(train)\n",
    "test = cleanTitle(test)\n",
    "    \n",
    "print(train.Title.unique())\n",
    "print(test.Title.unique())"
   ]
  },
  {
   "cell_type": "code",
   "execution_count": 12,
   "metadata": {},
   "outputs": [
    {
     "name": "stdout",
     "output_type": "stream",
     "text": [
      "    Title  Survived\n",
      "0  Master  0.575000\n",
      "1    Miss  0.702703\n",
      "2      Mr  0.156673\n",
      "3     Mrs  0.793651\n",
      "4    Rare  0.347826\n"
     ]
    }
   ],
   "source": [
    "# See how title affects survival\n",
    "print(train[['Title', 'Survived']].groupby('Title', as_index=False).mean())"
   ]
  },
  {
   "cell_type": "code",
   "execution_count": 13,
   "metadata": {},
   "outputs": [
    {
     "name": "stdout",
     "output_type": "stream",
     "text": [
      "   IsNotAlone  Survived\n",
      "0           0  0.303538\n",
      "1           1  0.505650\n"
     ]
    }
   ],
   "source": [
    "# 2. Whether alone or with family\n",
    "def isNotAlone(df):\n",
    "    df['IsNotAlone'] = 1\n",
    "    df.loc[df['SibSp'] + df['Parch'] == 0, 'IsNotAlone'] = 0\n",
    "    \n",
    "    return df\n",
    "\n",
    "train = isNotAlone(train)\n",
    "test = isNotAlone(test)\n",
    "\n",
    "print(train[['IsNotAlone', 'Survived']].groupby('IsNotAlone', as_index=False).mean())"
   ]
  },
  {
   "cell_type": "code",
   "execution_count": 14,
   "metadata": {},
   "outputs": [
    {
     "name": "stdout",
     "output_type": "stream",
     "text": [
      "   HasCabin  Survived\n",
      "0         0  0.299854\n",
      "1         1  0.666667\n"
     ]
    }
   ],
   "source": [
    "# 3. Whether has a cabin or not\n",
    "def hasCabin(df):\n",
    "    df['HasCabin'] = 1\n",
    "    df.loc[df['Cabin']=='U', 'HasCabin'] = 0\n",
    "    \n",
    "    return df\n",
    "\n",
    "train = hasCabin(train)\n",
    "test = hasCabin(test)\n",
    "    \n",
    "print(train[['HasCabin', 'Survived']].groupby('HasCabin', as_index=False).mean())"
   ]
  },
  {
   "cell_type": "code",
   "execution_count": 15,
   "metadata": {},
   "outputs": [
    {
     "name": "stdout",
     "output_type": "stream",
     "text": [
      "      Sex  Survived\n",
      "0  female  0.742038\n",
      "1    male  0.188908\n"
     ]
    }
   ],
   "source": [
    "# 4. Sex matters\n",
    "print(train[['Sex', 'Survived']].groupby('Sex', as_index=False).mean())"
   ]
  },
  {
   "cell_type": "code",
   "execution_count": 16,
   "metadata": {},
   "outputs": [
    {
     "name": "stdout",
     "output_type": "stream",
     "text": [
      "   CategoricalAge  Survived\n",
      "0  (-0.001, 19.0]  0.453608\n",
      "1    (19.0, 25.0]  0.308989\n",
      "2    (25.0, 31.0]  0.365854\n",
      "3    (31.0, 40.0]  0.409326\n",
      "4    (40.0, 80.0]  0.370370\n"
     ]
    }
   ],
   "source": [
    "# 5. Age matters\n",
    "train['CategoricalAge'] = pd.qcut(train['Age'], 5)\n",
    "print(train[['CategoricalAge', 'Survived']].groupby('CategoricalAge', as_index=False).mean())"
   ]
  },
  {
   "cell_type": "code",
   "execution_count": 17,
   "metadata": {},
   "outputs": [
    {
     "name": "stdout",
     "output_type": "stream",
     "text": [
      "  Embarked  Survived\n",
      "0        C  0.553571\n",
      "1        Q  0.389610\n",
      "2        S  0.339009\n"
     ]
    }
   ],
   "source": [
    "# 6. Where they embarked from\n",
    "print(train[['Embarked', 'Survived']].groupby('Embarked', as_index=False).mean())"
   ]
  },
  {
   "cell_type": "code",
   "execution_count": 18,
   "metadata": {},
   "outputs": [
    {
     "name": "stdout",
     "output_type": "stream",
     "text": [
      "   Pclass  Survived\n",
      "0       1  0.629630\n",
      "1       2  0.472826\n",
      "2       3  0.242363\n"
     ]
    }
   ],
   "source": [
    "# 7. Class\n",
    "print(train[['Pclass', 'Survived']].groupby('Pclass', as_index=False).mean())"
   ]
  },
  {
   "cell_type": "code",
   "execution_count": 19,
   "metadata": {},
   "outputs": [
    {
     "name": "stdout",
     "output_type": "stream",
     "text": [
      "   CategoricalFare  Survived\n",
      "0   (-0.001, 7.91]  0.197309\n",
      "1   (7.91, 14.454]  0.303571\n",
      "2   (14.454, 31.0]  0.454955\n",
      "3  (31.0, 512.329]  0.581081\n"
     ]
    }
   ],
   "source": [
    "# 8. Fare\n",
    "train['CategoricalFare'] = pd.qcut(train['Fare'], 4)\n",
    "print(train[['CategoricalFare', 'Survived']].groupby('CategoricalFare', as_index=False).mean())"
   ]
  },
  {
   "cell_type": "code",
   "execution_count": 20,
   "metadata": {},
   "outputs": [
    {
     "data": {
      "text/plain": [
       "Index(['PassengerId', 'Survived', 'Pclass', 'Name', 'Sex', 'Age', 'SibSp',\n",
       "       'Parch', 'Ticket', 'Fare', 'Cabin', 'Embarked', 'Title', 'IsNotAlone',\n",
       "       'HasCabin'],\n",
       "      dtype='object')"
      ]
     },
     "execution_count": 20,
     "metadata": {},
     "output_type": "execute_result"
    }
   ],
   "source": [
    "train = train.drop(['CategoricalFare', 'CategoricalAge'], axis=1) # drop dummy columns\n",
    "train.columns"
   ]
  },
  {
   "cell_type": "code",
   "execution_count": 21,
   "metadata": {},
   "outputs": [
    {
     "name": "stdout",
     "output_type": "stream",
     "text": [
      "Index(['Survived', 'Pclass', 'Sex', 'Age', 'Fare', 'Embarked', 'Title',\n",
      "       'IsNotAlone', 'HasCabin'],\n",
      "      dtype='object')\n",
      "   Survived  Pclass  Sex  Age  Fare  Embarked  Title  IsNotAlone  HasCabin\n",
      "0         0       3    0    4   0.0         0      0           1         0\n",
      "1         1       1    0    4   3.0         2      4           1         1\n",
      "2         1       3    0    4   1.0         0      3           0         0\n",
      "3         1       1    0    4   3.0         0      4           1         1\n",
      "4         0       3    0    4   1.0         0      0           0         0\n",
      "Index(['Pclass', 'Sex', 'Age', 'Fare', 'Embarked', 'Title', 'IsNotAlone',\n",
      "       'HasCabin'],\n",
      "      dtype='object')\n",
      "   Pclass  Sex  Age  Fare  Embarked  Title  IsNotAlone  HasCabin\n",
      "0       3    0    4   0.0         1      0           0         0\n",
      "1       3    0    4   0.0         0      4           1         0\n",
      "2       2    0    4   1.0         1      0           0         0\n",
      "3       3    0    4   1.0         0      0           0         0\n",
      "4       3    0    4   1.0         0      4           1         0\n"
     ]
    }
   ],
   "source": [
    "# process data for training\n",
    "def process(df):\n",
    "    # remove unneccessary columns\n",
    "    dropColumns = ['PassengerId', 'SibSp', 'Parch', 'Name', 'Ticket', 'Cabin']\n",
    "    df = df.drop(dropColumns, axis=1)\n",
    "    print(df.columns)\n",
    "    \n",
    "    # map title column\n",
    "    titleMapping = {'Mr':0, 'Rare':1, 'Master':2, 'Miss':3, 'Mrs':4}\n",
    "    df.Title = df.Title.map(titleMapping)\n",
    "    \n",
    "    # map sex column\n",
    "    sexMapping = {'male':0, 'female':0}\n",
    "    df.Sex = df.Sex.map(sexMapping)\n",
    "    \n",
    "    # map age column\n",
    "    df.loc[(df['Age'] > 19.0) & (df['Age'] <= 25.0), 'Age'] = 0\n",
    "    df.loc[df['Age'] > 40.0, 'Age'] = 1\n",
    "    df.loc[(df['Age'] > 32.0) & (df['Age'] <= 40.0), 'Age'] = 2\n",
    "    df.loc[(df['Age'] > 25.0) & (df['Age'] <= 32.0), 'Age'] = 3\n",
    "    df.loc[df['Age'] <= 19.0, 'Age'] = 4\n",
    "    \n",
    "    # map fare column\n",
    "    df.loc[df['Fare'] <= 7.91, 'Fare'] = 0\n",
    "    df.loc[(df['Fare'] > 7.91) & (df['Fare'] <= 14.454), 'Fare'] = 1\n",
    "    df.loc[(df['Fare'] > 14.454) & (df['Fare'] <= 31.0), 'Fare'] = 2\n",
    "    df.loc[df['Fare'] > 31.0, 'Fare'] = 3\n",
    "    \n",
    "    # map embarked column\n",
    "    embarkedMapping = {'S':0, 'Q':1, 'C':2}\n",
    "    df.Embarked = df.Embarked.map(embarkedMapping)\n",
    "    \n",
    "    print(df.head())\n",
    "    \n",
    "    return df\n",
    "\n",
    "train = process(train)\n",
    "test = process(test)"
   ]
  },
  {
   "cell_type": "code",
   "execution_count": 23,
   "metadata": {},
   "outputs": [
    {
     "data": {
      "text/html": [
       "<div>\n",
       "<style scoped>\n",
       "    .dataframe tbody tr th:only-of-type {\n",
       "        vertical-align: middle;\n",
       "    }\n",
       "\n",
       "    .dataframe tbody tr th {\n",
       "        vertical-align: top;\n",
       "    }\n",
       "\n",
       "    .dataframe thead th {\n",
       "        text-align: right;\n",
       "    }\n",
       "</style>\n",
       "<table border=\"1\" class=\"dataframe\">\n",
       "  <thead>\n",
       "    <tr style=\"text-align: right;\">\n",
       "      <th></th>\n",
       "      <th>Pclass</th>\n",
       "      <th>Sex</th>\n",
       "      <th>Age</th>\n",
       "      <th>Fare</th>\n",
       "      <th>Embarked</th>\n",
       "      <th>Title</th>\n",
       "      <th>IsNotAlone</th>\n",
       "      <th>HasCabin</th>\n",
       "    </tr>\n",
       "  </thead>\n",
       "  <tbody>\n",
       "    <tr>\n",
       "      <th>0</th>\n",
       "      <td>3</td>\n",
       "      <td>0</td>\n",
       "      <td>4</td>\n",
       "      <td>0.0</td>\n",
       "      <td>1</td>\n",
       "      <td>0</td>\n",
       "      <td>0</td>\n",
       "      <td>0</td>\n",
       "    </tr>\n",
       "    <tr>\n",
       "      <th>1</th>\n",
       "      <td>3</td>\n",
       "      <td>0</td>\n",
       "      <td>4</td>\n",
       "      <td>0.0</td>\n",
       "      <td>0</td>\n",
       "      <td>4</td>\n",
       "      <td>1</td>\n",
       "      <td>0</td>\n",
       "    </tr>\n",
       "    <tr>\n",
       "      <th>2</th>\n",
       "      <td>2</td>\n",
       "      <td>0</td>\n",
       "      <td>4</td>\n",
       "      <td>1.0</td>\n",
       "      <td>1</td>\n",
       "      <td>0</td>\n",
       "      <td>0</td>\n",
       "      <td>0</td>\n",
       "    </tr>\n",
       "    <tr>\n",
       "      <th>3</th>\n",
       "      <td>3</td>\n",
       "      <td>0</td>\n",
       "      <td>4</td>\n",
       "      <td>1.0</td>\n",
       "      <td>0</td>\n",
       "      <td>0</td>\n",
       "      <td>0</td>\n",
       "      <td>0</td>\n",
       "    </tr>\n",
       "    <tr>\n",
       "      <th>4</th>\n",
       "      <td>3</td>\n",
       "      <td>0</td>\n",
       "      <td>4</td>\n",
       "      <td>1.0</td>\n",
       "      <td>0</td>\n",
       "      <td>4</td>\n",
       "      <td>1</td>\n",
       "      <td>0</td>\n",
       "    </tr>\n",
       "  </tbody>\n",
       "</table>\n",
       "</div>"
      ],
      "text/plain": [
       "   Pclass  Sex  Age  Fare  Embarked  Title  IsNotAlone  HasCabin\n",
       "0       3    0    4   0.0         1      0           0         0\n",
       "1       3    0    4   0.0         0      4           1         0\n",
       "2       2    0    4   1.0         1      0           0         0\n",
       "3       3    0    4   1.0         0      0           0         0\n",
       "4       3    0    4   1.0         0      4           1         0"
      ]
     },
     "execution_count": 23,
     "metadata": {},
     "output_type": "execute_result"
    }
   ],
   "source": [
    "test.head()"
   ]
  },
  {
   "cell_type": "code",
   "execution_count": null,
   "metadata": {},
   "outputs": [],
   "source": []
  }
 ],
 "metadata": {
  "kernelspec": {
   "display_name": "Python 3",
   "language": "python",
   "name": "python3"
  },
  "language_info": {
   "codemirror_mode": {
    "name": "ipython",
    "version": 3
   },
   "file_extension": ".py",
   "mimetype": "text/x-python",
   "name": "python",
   "nbconvert_exporter": "python",
   "pygments_lexer": "ipython3",
   "version": "3.7.2"
  }
 },
 "nbformat": 4,
 "nbformat_minor": 2
}
